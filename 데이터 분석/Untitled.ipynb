{
 "cells": [
  {
   "cell_type": "code",
   "execution_count": 6,
   "id": "543e0253-b9bf-4cba-85c4-7b3c7116a0de",
   "metadata": {},
   "outputs": [],
   "source": [
    "import pandas as pd\n",
    "import scipy.stats as spst"
   ]
  },
  {
   "cell_type": "code",
   "execution_count": 4,
   "id": "9c3d3b87-3ebe-4337-b65d-411fffd8a881",
   "metadata": {},
   "outputs": [],
   "source": [
    "path = 'https://bit.ly/3PArw4W'\n",
    "boston = pd.read_csv(path)"
   ]
  },
  {
   "cell_type": "code",
   "execution_count": 7,
   "id": "1312efcb-3ccb-4d59-9827-edd0dbd413a8",
   "metadata": {},
   "outputs": [
    {
     "data": {
      "text/plain": [
       "(-0.4685359335677671, 5.637733627689083e-29)"
      ]
     },
     "execution_count": 7,
     "metadata": {},
     "output_type": "execute_result"
    }
   ],
   "source": [
    "spst.pearsonr(boston['tax'], boston['medv'])"
   ]
  },
  {
   "cell_type": "code",
   "execution_count": 35,
   "id": "a1863f84-e07c-4af3-90e4-7b507fb7206e",
   "metadata": {},
   "outputs": [
    {
     "name": "stdin",
     "output_type": "stream",
     "text": [
      " \\\\\n"
     ]
    }
   ],
   "source": [
    "a = input()"
   ]
  },
  {
   "cell_type": "code",
   "execution_count": 36,
   "id": "0dd3c6e2-916f-4a9d-8bd1-0c94975cf7de",
   "metadata": {},
   "outputs": [
    {
     "name": "stdout",
     "output_type": "stream",
     "text": [
      "\\\\\n"
     ]
    }
   ],
   "source": [
    "print(a)"
   ]
  },
  {
   "cell_type": "code",
   "execution_count": 37,
   "id": "62c9b54d-d8b4-4999-a3e0-d791a352f43b",
   "metadata": {},
   "outputs": [],
   "source": [
    "a = a.replace('\"',r'\\\"')\n",
    "a = a.replace(\"'\",r\"\\'\")\n",
    "a = a.replace(\"\\\\\",'\\\\\\\\')"
   ]
  },
  {
   "cell_type": "code",
   "execution_count": 38,
   "id": "c2607755-9c6b-4509-b3b5-858ca9983e3d",
   "metadata": {},
   "outputs": [
    {
     "name": "stdout",
     "output_type": "stream",
     "text": [
      "\\\\\\\\\n"
     ]
    }
   ],
   "source": [
    "print(a)"
   ]
  },
  {
   "cell_type": "code",
   "execution_count": 4,
   "id": "9d58bf19-31f1-4f6c-92a5-bf5f5498cb81",
   "metadata": {},
   "outputs": [
    {
     "name": "stdout",
     "output_type": "stream",
     "text": [
      "골뱅이는 escape 시퀀스 때문에 삭제되겠지.  \n",
      "골뱅이는 escape 시퀀스 때문에 삭제되겠지. @\\b \n"
     ]
    }
   ],
   "source": [
    "print(\"골뱅이는 escape 시퀀스 때문에 삭제되겠지. @\\b \")\n",
    "print(r\"골뱅이는 escape 시퀀스 때문에 삭제되겠지. @\\b \")"
   ]
  },
  {
   "cell_type": "code",
   "execution_count": 6,
   "id": "0396fe3b-d568-44da-a386-a0a580d7f091",
   "metadata": {},
   "outputs": [
    {
     "data": {
      "text/plain": [
       "'골뱅이는 escape 시퀀스 때문에 삭제되겠지. @\\\\b '"
      ]
     },
     "execution_count": 6,
     "metadata": {},
     "output_type": "execute_result"
    }
   ],
   "source": [
    "r\"골뱅이는 escape 시퀀스 때문에 삭제되겠지. @\\b \""
   ]
  },
  {
   "cell_type": "code",
   "execution_count": 32,
   "id": "fbc1bf63-0f2d-41e8-a73e-f7e8f8807c3b",
   "metadata": {},
   "outputs": [
    {
     "name": "stdout",
     "output_type": "stream",
     "text": [
      "아니면 \\' 또는 \\\"를 사용해도 됩니다.\n"
     ]
    }
   ],
   "source": [
    "# 문자열에 \\ 넣기\n",
    "s5 = \"아니면 \\\\' 또는 \\\\\\\"를 사용해도 됩니다.\"\n",
    "print(s5)"
   ]
  },
  {
   "cell_type": "code",
   "execution_count": null,
   "id": "1edf948b-0e6e-41ce-bcd7-d1c638001576",
   "metadata": {},
   "outputs": [],
   "source": [
    "s5.replace('')"
   ]
  }
 ],
 "metadata": {
  "kernelspec": {
   "display_name": "Python 3",
   "language": "python",
   "name": "python3"
  },
  "language_info": {
   "codemirror_mode": {
    "name": "ipython",
    "version": 3
   },
   "file_extension": ".py",
   "mimetype": "text/x-python",
   "name": "python",
   "nbconvert_exporter": "python",
   "pygments_lexer": "ipython3",
   "version": "3.8.8"
  }
 },
 "nbformat": 4,
 "nbformat_minor": 5
}
